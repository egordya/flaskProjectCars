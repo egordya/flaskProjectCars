{
 "cells": [
  {
   "cell_type": "code",
   "execution_count": 16,
   "outputs": [
    {
     "name": "stdout",
     "output_type": "stream",
     "text": [
      "Requirement already satisfied: pip in c:\\users\\egord\\desktop\\masters year 1\\ffr120 simulation of complex systems\\flaskproject\\venv\\lib\\site-packages (24.3.1)\n",
      "Requirement already satisfied: pyngrok in c:\\users\\egord\\desktop\\masters year 1\\ffr120 simulation of complex systems\\flaskproject\\venv\\lib\\site-packages (7.2.2)\n",
      "Requirement already satisfied: PyYAML>=5.1 in c:\\users\\egord\\desktop\\masters year 1\\ffr120 simulation of complex systems\\flaskproject\\venv\\lib\\site-packages (from pyngrok) (6.0.2)\n"
     ]
    }
   ],
   "source": [
    "!python.exe -m pip install --upgrade pip\n",
    "!pip install pyngrok"
   ],
   "metadata": {
    "collapsed": false
   }
  },
  {
   "cell_type": "code",
   "execution_count": 18,
   "outputs": [],
   "source": [
    "from pyngrok import ngrok\n",
    "from flask import Flask"
   ],
   "metadata": {
    "collapsed": false
   }
  },
  {
   "cell_type": "code",
   "execution_count": 19,
   "outputs": [
    {
     "name": "stdout",
     "output_type": "stream",
     "text": [
      "ngrok tunnel available at: https://466f-46-239-114-85.ngrok-free.app\n"
     ]
    }
   ],
   "source": [
    "ngrok.set_auth_token(\"2qID5F1Dl9OuCZZSIbRrCkGpqJa_r6gctcVh4U4Z8VD9pnbP\")\n",
    "port = 5000\n",
    "public_url = ngrok.connect(port).public_url\n",
    "print(f\"ngrok tunnel available at: {public_url}\")"
   ],
   "metadata": {
    "collapsed": false
   }
  },
  {
   "cell_type": "code",
   "execution_count": null,
   "outputs": [],
   "source": [],
   "metadata": {
    "collapsed": false
   }
  }
 ],
 "metadata": {
  "kernelspec": {
   "display_name": "Python 3",
   "language": "python",
   "name": "python3"
  },
  "language_info": {
   "codemirror_mode": {
    "name": "ipython",
    "version": 2
   },
   "file_extension": ".py",
   "mimetype": "text/x-python",
   "name": "python",
   "nbconvert_exporter": "python",
   "pygments_lexer": "ipython2",
   "version": "2.7.6"
  }
 },
 "nbformat": 4,
 "nbformat_minor": 0
}
